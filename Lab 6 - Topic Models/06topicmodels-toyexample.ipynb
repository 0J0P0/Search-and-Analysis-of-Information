{
 "cells": [
  {
   "cell_type": "markdown",
   "id": "412eb65f-11a4-4eaa-98cf-1790c38145e2",
   "metadata": {},
   "source": [
    "# CAI Lab 6: pLSI with toy corpus\n",
    "\n",
    "\n",
    "_In this lab session, rather than assigning some task for you to do, I present code that implements the EM algorithm applied to the\n",
    "toyexample that we saw in class. The main objective of today's lab session is to clarify this model and provide you with code you\n",
    "can apply to a larger, more realistic corpus in the future._"
   ]
  },
  {
   "cell_type": "code",
   "execution_count": 1,
   "id": "fb9b64f1-0807-44f6-ba4c-83c5d371ac46",
   "metadata": {},
   "outputs": [],
   "source": [
    "import numpy as np\n",
    "import pandas as pd\n",
    "\n",
    "pd.set_option('display.precision', 5)\n",
    "np.set_printoptions(precision = 5)\n"
   ]
  },
  {
   "cell_type": "markdown",
   "metadata": {},
   "source": [
    "## 1. The pLSI probabilistic model (using asymmetric formulation)\n",
    "\n",
    "The central parameters of the model are ($d$ stands for a document, $w$ stands for a word, and $z$ stands for the latent variable indicating topic assignment). \n",
    "\n",
    "- $P(z|d)$: the topic proportions for each document (\"topic distribution for document $d$\"); we have $K N$ such parameters; we use matrix $\\theta$ to store these parameters\n",
    "- $P(w|z)$: the distribution of words for a given topic (\"word distribution for topic $z$\"); we have $K M$ such parameters; we use matrix $\\beta$ to store these parameters\n",
    "\n",
    "The model is given by:\n",
    "\n",
    "- $P(d,w) = P(d) P(w|d) = P(d) \\sum_{k} P(z=k|d) P(w|z=k)$\n",
    "\n",
    "Throughout this document we assume that $P(d)$ is uniform and so we can simplify our formulation:\n",
    "\n",
    "- $P(d,w) \\propto \\sum_{k} P(z=k|d) P(w|z=k)$\n"
   ]
  },
  {
   "cell_type": "markdown",
   "id": "46e591a2-14fe-4ff7-ae60-344f656383e5",
   "metadata": {},
   "source": [
    "## 2. Data generation and toy example\n",
    "\n",
    "I will be using a toy example to illustrate the definitions and computations. The toy example assumes *three* topics (\"uppercase\", \"lowercase\", \"number\"), and the vocabulary is going to be composed of *six* words: $\\{A,B,a,b,1,2\\}$. The toy example is chosen so that the parameter values have a clear meaning. Of course, in a real corpus we will not expect such \"clean\" topics.\n",
    "\n",
    "- word distributions for topics are ($\\beta$):\n",
    "\n",
    "|       |A    |B|a|b|1|2|\n",
    "|-------|-----|--|---|-----|----|-----|\n",
    "uppercase |0.45|0.45|0.025|0.025|0.025|0.025|\n",
    "lowercase |0..025|0.025|0.6|0.3|0.025|0.025|\n",
    "number    |0.025|0.025|0.025|0.025|0.2|0.7|\n",
    "\n",
    "- topic proportions for documents are ($\\theta$):\n",
    "\n",
    "||uppercase|lowercase|number|\n",
    "|-|---------|---------|------|\n",
    "1| 0.8 |0.1|0.1|\n",
    "2|0.1|0.8|0.1|\n",
    "3|0.1|0.1|0.8|\n",
    "4|1/3|1/3|1/3|"
   ]
  },
  {
   "cell_type": "code",
   "execution_count": 2,
   "id": "d178124b-229f-467a-b9ae-4062292fe72b",
   "metadata": {},
   "outputs": [
    {
     "name": "stdout",
     "output_type": "stream",
     "text": [
      "               A      B      a      b      1      2\n",
      "uppercase  0.450  0.450  0.025  0.025  0.025  0.025\n",
      "lowercase  0.025  0.025  0.600  0.300  0.025  0.025\n",
      "number     0.025  0.025  0.025  0.025  0.200  0.700\n"
     ]
    }
   ],
   "source": [
    "# word distributions for topics: P(w|z = k)\n",
    "\n",
    "words = \"ABab12\"   # vocabulary to get actual \"word\" from index\n",
    "\n",
    "\n",
    "beta = np.array([[0.45, 0.45, 0.025, 0.025, 0.025, 0.025],\n",
    "                 [0.025, 0.025, 0.6, 0.3, 0.025, 0.025],\n",
    "                 [0.025, 0.025, 0.025, 0.025, 0.2, 0.7]])\n",
    "\n",
    "print(pd.DataFrame(data=beta, columns = [w for w in words], index=['uppercase', 'lowercase', 'number']))"
   ]
  },
  {
   "cell_type": "code",
   "execution_count": 3,
   "id": "8a6b59e4-b85f-4549-87a4-647326de4350",
   "metadata": {},
   "outputs": [
    {
     "name": "stdout",
     "output_type": "stream",
     "text": [
      "   uppercase  lowercase   number\n",
      "1    0.80000    0.10000  0.10000\n",
      "2    0.10000    0.80000  0.10000\n",
      "3    0.10000    0.10000  0.80000\n",
      "4    0.33333    0.33333  0.33333\n"
     ]
    }
   ],
   "source": [
    "# topic for documents: P(z = k | d)\n",
    "\n",
    "theta = np.array([[0.8,0.1,0.1],\n",
    "                  [0.1,0.8,0.1],\n",
    "                  [0.1,0.1,0.8],\n",
    "                  [1/3,1/3,1/3]])\n",
    "\n",
    "print(pd.DataFrame(data=theta, index = range(1, 5), columns = ['uppercase', 'lowercase', 'number']))"
   ]
  },
  {
   "cell_type": "markdown",
   "id": "e0a36ef4-3983-4cd0-a7fe-458d057f6ff0",
   "metadata": {},
   "source": [
    "### Generative process: sample \"fake\" corpus from given model\n",
    "\n",
    "Using the generative mechanism of the model we could sample a possible corpus from this particular model (we assume that each document is 20 \"words\" long):"
   ]
  },
  {
   "cell_type": "code",
   "execution_count": 6,
   "id": "996c8217-a1db-433e-a687-413006f7431b",
   "metadata": {},
   "outputs": [
    {
     "name": "stdout",
     "output_type": "stream",
     "text": [
      "B A A B A B B B 2 A B B A 1 2 2 1 A B A A A B B a B A b B A B A A B A A B 1 A a 2 1 B a B 2 A A A a a A B A A 2 B B A 2 B B 1 A a B A B A 2 a A b B A B B B B A A A B A 2 b B B a A B 2 a b b A a a A B\n",
      "a a 2 b b b a b 2 b a b A a b b 2 a a a a B a a a b 1 2 a a A a B a a a a a a a a 1 A b a b 1 a a a A 2 b A b a b b B 2 2 a a a B a 2 a a a a a a a b a b A a 2 A 1 A b a 2 2 B a A a 1 a b a a 2 a a a\n",
      "2 b 1 1 2 2 2 A 2 2 2 a 2 2 2 2 2 2 2 2 2 2 a 2 a 2 2 2 B 1 1 1 2 2 2 1 2 2 1 1 a A 1 2 2 b 2 2 a a A b b 2 1 2 2 2 2 B 2 a A B 1 2 2 1 1 2 1 2 2 2 A 2 1 a 2 2 1 1 2 2 A 1 1 2 b 2 2 a 2 2 a 2 2 1 2 2\n",
      "b B B a 2 1 B B 2 b 2 A 1 a A B A A B 2 b 2 B B A a A B 2 b B b B a 1 A a 2 2 B a a 2 A 2 B 1 B B a A A A b a a a 2 a 2 2 A a b A a 2 1 A B B A A b a B b a A B b a a 2 a 2 1 a 2 A a a b A 2 a 2 2 2 a\n"
     ]
    }
   ],
   "source": [
    "corpus = []\n",
    "\n",
    "doc_length = 100\n",
    "\n",
    "K = theta.shape[1]   # number of topics, in this example K=3\n",
    "\n",
    "np.random.seed(123)\n",
    "\n",
    "for d in range(theta.shape[0]):         # 4 documents\n",
    "    doc = []\n",
    "    for i in range(doc_length):    # for each word position in doc 'd'\n",
    "        \n",
    "        # sample topic according to a multinomial with parameters given by theta[d, :]\n",
    "        z = np.argmax(np.random.multinomial(1, theta[d,:]))  # z = 0,1,2 with probabilites given by theta[d,:]\n",
    "        #print(f'chosen topic for document {d} is: {z}')\n",
    "\n",
    "        # sample word according to topic z sampled in previous step\n",
    "        w = np.argmax(np.random.multinomial(1, beta[z,:]))\n",
    "        #print(f'chosen word from topic {z} for document {d} is: {w} meaning {words[w]}')\n",
    "        \n",
    "        # append generated word to current document\n",
    "        doc.append(words[w])\n",
    "        \n",
    "    # append generated document to corpus\n",
    "    corpus.append(doc)\n",
    "\n",
    "# dump corpus..\n",
    "for doc in corpus:\n",
    "    print(' '.join(doc))"
   ]
  },
  {
   "cell_type": "markdown",
   "id": "fd22e94c-c939-4a5d-9251-c4f6d1f5b468",
   "metadata": {},
   "source": [
    "#### Compute frequency table for sampled corpus"
   ]
  },
  {
   "cell_type": "code",
   "execution_count": 5,
   "id": "8d70c121-9d53-4b1f-be9a-2d9325493330",
   "metadata": {},
   "outputs": [
    {
     "name": "stdout",
     "output_type": "stream",
     "text": [
      "    A   B   a   b   1   2\n",
      "1  35  34  11   5   5  10\n",
      "2   9   5  50  19   5  12\n",
      "3   6   3  10   5  20  56\n",
      "4  19  19  24  11   6  21\n"
     ]
    }
   ],
   "source": [
    "freq = [[doc.count(w) for w in words] for doc in corpus]  # frequencies\n",
    "\n",
    "# to pretty print\n",
    "print(pd.DataFrame(data = freq, columns = [w for w in words], index = range(1, theta.shape[0] + 1)))"
   ]
  },
  {
   "cell_type": "markdown",
   "id": "96cdf3ae-6a53-4828-8f95-09eb756cab88",
   "metadata": {},
   "source": [
    "## 3. EM algorithm for learning the parameters.."
   ]
  },
  {
   "cell_type": "code",
   "execution_count": 7,
   "id": "3a4d05b5-80a0-42d0-ae71-48422125f53a",
   "metadata": {},
   "outputs": [
    {
     "name": "stdout",
     "output_type": "stream",
     "text": [
      "4 documents, 6 words, 3 topics\n"
     ]
    }
   ],
   "source": [
    "N = theta.shape[0]    # 4 documents\n",
    "M = beta.shape[1]     # 6 words\n",
    "K = theta.shape[1]    # 3 topics\n",
    "\n",
    "print(f'{N} documents, {M} words, {K} topics')"
   ]
  },
  {
   "cell_type": "markdown",
   "id": "21ed992e-d642-47db-9d3b-adc3333a7920",
   "metadata": {},
   "source": [
    "### Set up counts"
   ]
  },
  {
   "cell_type": "code",
   "execution_count": 8,
   "id": "f5a5a56f-6368-4f73-b823-93c1c01fb256",
   "metadata": {},
   "outputs": [
    {
     "name": "stdout",
     "output_type": "stream",
     "text": [
      "frequency couts:\n",
      " [[35 34 11  5  5 10]\n",
      " [ 9  5 50 19  5 12]\n",
      " [ 6  3 10  5 20 56]\n",
      " [19 19 24 11  6 21]]\n",
      "length of docs: [100 100 100 100]\n"
     ]
    }
   ],
   "source": [
    "# frequency counts are stored in n[d,w] array\n",
    "n = np.array(freq) # make numpy array from list of lists..\n",
    "print(\"frequency couts:\\n\", n)\n",
    "\n",
    "# useful to compute total counts for document..\n",
    "nd = n.sum(axis = 1)\n",
    "print(\"length of docs:\", nd)"
   ]
  },
  {
   "cell_type": "markdown",
   "id": "ca15b6ad-4fb8-44aa-bd8a-2094b6f939c7",
   "metadata": {},
   "source": [
    "### Initialize parameters randomly"
   ]
  },
  {
   "cell_type": "code",
   "execution_count": 9,
   "id": "9c9847db-e2b2-4c21-a6fa-3b1ef752a0ff",
   "metadata": {},
   "outputs": [],
   "source": [
    "def init_rand():\n",
    "    # theta[d, k] : p(z=k|d)\n",
    "    _theta = np.random.rand(N, K)\n",
    "    d_sums = _theta.sum(axis = 1)\n",
    "    _theta /= d_sums[:, np.newaxis]     # normalize appropriately\n",
    "\n",
    "    # beta[k, w] : p(w|z=k)\n",
    "    _beta = np.random.rand(K, M)\n",
    "    w_sums = _beta.sum(axis = 1)\n",
    "    _beta /= w_sums[:, np.newaxis]      # normalize appropriately\n",
    "\n",
    "    return _theta, _beta"
   ]
  },
  {
   "cell_type": "markdown",
   "id": "400dcc28-b840-494f-849d-7e00bcfa6811",
   "metadata": {},
   "source": [
    "### E-step\n",
    "\n",
    "The E-step computes the posterior distribution $P(z=k|d, w)$ for all $d,w$ in the corpus, given current values of $\\theta$ and $\\beta$\n",
    "matrices. It uses the formula\n",
    "\n",
    "$$\n",
    "\\begin{aligned}\n",
    "P(z=k|d,w) &= \\frac{P(z=k,d,w)}{P(d,w)} \\\\\n",
    "  &\\propto P(z=k,d,w) \\\\\n",
    "  &\\propto  \\theta_{d,k}\\ \\beta_{k,w}\n",
    "\\end{aligned}\n",
    "$$\n",
    "\n",
    "In the code below, we can observe how the `_post` array is filled out using this formula, and afterwords the resulting result is normalized to obtain a proper probability distribution (the normalization is accross the first dimension)"
   ]
  },
  {
   "cell_type": "code",
   "execution_count": 23,
   "id": "fc4c4f9e-d966-4656-bc9b-955e2e9a6ae6",
   "metadata": {},
   "outputs": [],
   "source": [
    "def EStep(theta, beta):\n",
    "    \n",
    "    # _post[k,d,w] : p(z=k|d,w) posterior of latent z!    \n",
    "    _post = np.zeros((K,N,M))\n",
    "    \n",
    "    for d in range(N):\n",
    "        for w in range(M):\n",
    "            for k in range(K):\n",
    "                _post[k, d, w] =  theta[d, k] * beta[k, w]\n",
    "\n",
    "    # now, we normalize using first axis..\n",
    "    k_sums = _post.sum(axis = 0)\n",
    "    _post /= k_sums[np.newaxis,:,:]\n",
    "\n",
    "    return _post"
   ]
  },
  {
   "cell_type": "markdown",
   "id": "2e3a7daf-3748-4a50-8f18-f1dcbe8e7c2a",
   "metadata": {},
   "source": [
    "### M-step\n",
    "\n",
    "The M-step updates the parameter values in the matrices $\\theta$ and $\\beta$ based on the updated latent variable posteriors. It does so\n",
    "by invoking maximum likelihood:\n",
    "\n",
    "$$\n",
    "\\begin{aligned}\n",
    "\\beta_{k,w} = P(w|z=k)  &=  \\frac{\\sum_d n(d,w) P(z=k|d,w)}{\\sum_{w'} \\sum_d n(d,w') P(z=k|d,w')}\\\\\n",
    "\\theta_{d,k} = P(z=k|d) &= \\frac{\\sum_w n(d,w) P(z=k|d,w)}{\\sum_{k'} \\sum_w n(d,w) P(z=k'|d,w)}\n",
    "    = \\frac{\\sum_w n(d,w) P(z=k|d,w)}{\\sum_w n(d,w)} = \\frac{\\sum_w n(d,w) P(z=k|d,w)}{n(d)}\\\\\n",
    "\\end{aligned}\n",
    "$$"
   ]
  },
  {
   "cell_type": "code",
   "execution_count": 24,
   "id": "89e1023c-d451-4556-9aa1-5d44e6d2285d",
   "metadata": {},
   "outputs": [],
   "source": [
    "def MStep(post):\n",
    "    \n",
    "    # re-estimate theta\n",
    "    _theta = np.zeros([N, K])\n",
    "    for k in range(K):\n",
    "        for d in range(N):\n",
    "            for w in range(M):\n",
    "                _theta[d,k] += n[d,w] * post[k,d,w]\n",
    "            _theta[d,k] /= nd[d]\n",
    "\n",
    "    # re-estimate beta\n",
    "    _beta = np.zeros([K, M])\n",
    "    for k in range(K):\n",
    "        for d in range(N):\n",
    "            for w in range(M):\n",
    "                _beta[k,w] += n[d,w] * post[k,d,w]\n",
    "    # now normalize by axis = 1\n",
    "    w_sums = _beta.sum(axis = 1)\n",
    "    _beta /= w_sums[:, np.newaxis]\n",
    "    \n",
    "    return _theta, _beta"
   ]
  },
  {
   "cell_type": "markdown",
   "id": "1e31965c-2ec1-4f26-8413-1d5f9cbd7b36",
   "metadata": {},
   "source": [
    "### Log-likelihood\n",
    "\n",
    "$$\n",
    "\\begin{aligned}\n",
    "   {\\cal L}     &=  \\sum_{d\\in{\\cal D}} \\sum_{w\\in {\\cal W}} n(d,w) \\log \\sum_k{ P(z=k|d) P(w|z=k)}\\\\\n",
    "        &= \\sum_{d\\in{\\cal D}} \\sum_{w\\in {\\cal W}} n(d,w) \\log \\sum_k{ \\theta_{d,k}\\ \\beta_{k,w}}\\\\\n",
    "\\end{aligned}\n",
    "$$"
   ]
  },
  {
   "cell_type": "code",
   "execution_count": 25,
   "id": "15e0ad37-2ce9-4fab-8826-7212506f7843",
   "metadata": {},
   "outputs": [],
   "source": [
    "def LogLikelihood(theta, beta):\n",
    "    tmp = 0\n",
    "    for d in range(N):\n",
    "        for w in range(M):\n",
    "            tmp += n[d,w] * np.log(theta[d,:].dot(beta[:,w]))\n",
    "    return tmp"
   ]
  },
  {
   "cell_type": "markdown",
   "id": "5dc63bb5-4efa-4eba-8fee-3cc47c98ccd8",
   "metadata": {},
   "source": [
    "### EM algorithm\n",
    "\n",
    "Finally, we have all elements to implement EM for pLSI. As stated in the lecture notes:\n",
    "\n",
    "1. Randomly initialize $P(w|z)$ (matrix $\\beta$) and $P(z|d)$ (matrix $\\theta$)\n",
    "2. Iterate until convergence:\n",
    "    - E-step: _// re-compute posterior for latent variable_ $z$\n",
    "        - for all $k$, compute: $P(z=k|d,w) = \\frac{\\theta_{d,k}\\ \\beta_{k,w}}{\\sum_{k'}\\theta_{d,k'}\\ \\beta_{k',w}}$\n",
    "    - M-step: _// re-estimate parameters based on new posterior _\n",
    "        - for all $k$, compute $\\beta_{k,w} =  \\frac{\\sum_d n(d,w) P(z=k|d,w)}{\\sum_{w'}\\sum_d n(d,w') P(z=k|d,w')}$\n",
    "        - for all $k$, compute $\\theta_{d,k} = \\frac{\\sum_w n(d,w) P(z=k|d,w)}{n(d)}$\n"
   ]
  },
  {
   "cell_type": "code",
   "execution_count": 26,
   "id": "16b664ff-c70f-400b-8d8a-ff051fa46a3b",
   "metadata": {},
   "outputs": [
    {
     "name": "stdout",
     "output_type": "stream",
     "text": [
      "log-likelihood: -760.18\n",
      "log-likelihood: -674.78\n",
      "log-likelihood: -662.55\n",
      "log-likelihood: -655.60\n",
      "log-likelihood: -652.20\n",
      "log-likelihood: -650.44\n",
      "log-likelihood: -648.81\n",
      "log-likelihood: -646.34\n",
      "log-likelihood: -642.25\n",
      "log-likelihood: -636.06\n",
      "log-likelihood: -628.11\n",
      "log-likelihood: -619.54\n",
      "log-likelihood: -611.22\n",
      "log-likelihood: -604.04\n",
      "log-likelihood: -599.27\n",
      "log-likelihood: -597.00\n",
      "log-likelihood: -596.16\n",
      "log-likelihood: -595.88\n",
      "log-likelihood: -595.77\n",
      "log-likelihood: -595.72\n",
      "log-likelihood: -595.70\n",
      "log-likelihood: -595.68\n",
      "log-likelihood: -595.68\n",
      "log-likelihood: -595.67\n",
      "log-likelihood: -595.67\n",
      "EM took 0.01 s. and converged in 24 iterations.\n"
     ]
    }
   ],
   "source": [
    "import time\n",
    "\n",
    "em_theta, em_beta = init_rand()\n",
    "logl = LogLikelihood(em_theta, em_beta)\n",
    "print(f'log-likelihood: {logl:.2f}')\n",
    "start = time.time()\n",
    "it = 0\n",
    "for _ in range(100):\n",
    "    t = time.time()\n",
    "    z_post = EStep(em_theta, em_beta)\n",
    "    em_theta, em_beta = MStep(z_post)\n",
    "    elapsed = time.time() - t\n",
    "    \n",
    "#    print(f\"iteration {i} took {elapsed:.2f} s.\")\n",
    "    old_logl = logl\n",
    "    logl = LogLikelihood(em_theta, em_beta)\n",
    "    print(f'log-likelihood: {logl:.2f}')\n",
    "    \n",
    "    # break of converged..\n",
    "    it += 1\n",
    "    if np.isclose(logl, old_logl):\n",
    "        break\n",
    "    \n",
    "print(f\"EM took {time.time()-start:.2f} s. and converged in {it} iterations.\")\n"
   ]
  },
  {
   "cell_type": "markdown",
   "id": "41f5c63a-9820-48c7-ae20-583f29b5fba9",
   "metadata": {},
   "source": [
    "## 4. Inspect learned model"
   ]
  },
  {
   "cell_type": "code",
   "execution_count": 27,
   "id": "0db9cf5f-0811-4770-a0f0-50b4567fb031",
   "metadata": {},
   "outputs": [
    {
     "name": "stdout",
     "output_type": "stream",
     "text": [
      "Learned word distributions:\n",
      "         A        B        a        b        1        2\n",
      "0  0.08217  0.04303  0.52457  0.20744  0.04021  0.10258\n",
      "1  0.05038  0.02175  0.03166  0.02296  0.22287  0.65037\n",
      "2  0.42144  0.43584  0.07810  0.04034  0.01429  0.00998\n",
      "\n",
      "True word distributions:\n",
      "               A      B      a      b      1      2\n",
      "uppercase  0.450  0.450  0.025  0.025  0.025  0.025\n",
      "lowercase  0.025  0.025  0.600  0.300  0.025  0.025\n",
      "number     0.025  0.025  0.025  0.025  0.200  0.700\n"
     ]
    }
   ],
   "source": [
    "# print word distributions for each topic, compare to true dist.\n",
    "print(f'Learned word distributions:')\n",
    "print(pd.DataFrame(data=em_beta, columns = [w for w in words]))\n",
    "print()\n",
    "print(f'True word distributions:')\n",
    "print(pd.DataFrame(data=beta, columns = [w for w in words], index=['uppercase', 'lowercase', 'number']))"
   ]
  },
  {
   "cell_type": "code",
   "execution_count": 28,
   "id": "7dbd03aa-1c0e-4805-a365-4c6eef2e2679",
   "metadata": {},
   "outputs": [
    {
     "name": "stdout",
     "output_type": "stream",
     "text": [
      "Learned topic proportions:\n",
      "         0        1        2\n",
      "1  0.08267  0.13565  0.78168\n",
      "2  0.93724  0.04046  0.02229\n",
      "3  0.13973  0.84717  0.01310\n",
      "4  0.39933  0.23489  0.36578\n",
      "\n",
      "True topic proportions:\n",
      "   uppercase  lowercase   number\n",
      "1    0.80000    0.10000  0.10000\n",
      "2    0.10000    0.80000  0.10000\n",
      "3    0.10000    0.10000  0.80000\n",
      "4    0.33333    0.33333  0.33333\n"
     ]
    }
   ],
   "source": [
    "# print topic proportions for each document, compare to true dist.\n",
    "print(f'Learned topic proportions:')\n",
    "print(pd.DataFrame(data = em_theta, index=range(1,5)))\n",
    "print()\n",
    "print(f'True topic proportions:')\n",
    "print(pd.DataFrame(data = theta, index=range(1,5), columns=['uppercase', 'lowercase', 'number']))"
   ]
  },
  {
   "cell_type": "code",
   "execution_count": null,
   "id": "175b9dc0-1b66-4e32-bbd0-e289c66bfd0b",
   "metadata": {},
   "outputs": [],
   "source": []
  }
 ],
 "metadata": {
  "kernelspec": {
   "display_name": "Python 3",
   "language": "python",
   "name": "python3"
  },
  "language_info": {
   "codemirror_mode": {
    "name": "ipython",
    "version": 3
   },
   "file_extension": ".py",
   "mimetype": "text/x-python",
   "name": "python",
   "nbconvert_exporter": "python",
   "pygments_lexer": "ipython3",
   "version": "3.11.3"
  }
 },
 "nbformat": 4,
 "nbformat_minor": 5
}
